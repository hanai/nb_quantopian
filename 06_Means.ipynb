{
 "cells": [
  {
   "cell_type": "markdown",
   "metadata": {},
   "source": [
    "# 测量中心倾向"
   ]
  },
  {
   "cell_type": "code",
   "execution_count": 1,
   "metadata": {},
   "outputs": [],
   "source": [
    "import pandas as pd"
   ]
  },
  {
   "cell_type": "code",
   "execution_count": 2,
   "metadata": {},
   "outputs": [],
   "source": [
    "import os\n",
    "from tiingo import TiingoClient\n",
    "\n",
    "config = {}\n",
    "config['session'] = True\n",
    "config['api_key'] = os.environ['TIINGO_API_KEY']\n",
    "\n",
    "client = TiingoClient(config)\n",
    "\n",
    "def get_df_from_tiingo(symbol, start, end):\n",
    "    df = pd.DataFrame(client.get_ticker_price(symbol,\n",
    "                      startDate=start,\n",
    "                      endDate=end,\n",
    "                      frequency='daily'\n",
    "                     ))\n",
    "    df.set_index('date', inplace=True)\n",
    "    df.index = pd.to_datetime(df.index)\n",
    "    df.index = df.index.tz_localize('UTC')\n",
    "    del df.index.name\n",
    "    return df"
   ]
  },
  {
   "cell_type": "markdown",
   "metadata": {},
   "source": [
    "# 算术平均值"
   ]
  },
  {
   "cell_type": "markdown",
   "metadata": {},
   "source": [
    "算术平均数用于总结数字数据，并且通常是用“平均值”一词来表示的。它被定义为观测值的总和除以观测值的数量：\n",
    "$$\n",
    "\\mu = \\frac{\\sum_{i=1}^N X_i}{N}\n",
    "$$\n",
    "其中 $X_1, X_2, \\ldots, X_N$ 是观察值。"
   ]
  },
  {
   "cell_type": "code",
   "execution_count": 3,
   "metadata": {},
   "outputs": [
    {
     "name": "stdout",
     "output_type": "stream",
     "text": [
      "Mean of x1: 29 / 8 = 3.625\n",
      "Mean of x2: 129 / 9 = 14.3333333333\n"
     ]
    }
   ],
   "source": [
    "import scipy.stats as stats\n",
    "import numpy as np\n",
    "\n",
    "x1 = [1, 2, 2, 3, 4, 5, 5, 7]\n",
    "x2 = x1 + [100]\n",
    "\n",
    "print('Mean of x1:', sum(x1), '/', len(x1), '=', np.mean(x1))\n",
    "print('Mean of x2:', sum(x2), '/', len(x2), '=', np.mean(x2))"
   ]
  },
  {
   "cell_type": "markdown",
   "metadata": {},
   "source": [
    "我们还定义了加权平均数，这对于我们明确定义了每个观察值应计数的次数时很有用。例如，在计算投资组合的平均价值时，说有 70% 的股票是 X 类型的比列出每一份股票的清单要方便。"
   ]
  },
  {
   "cell_type": "markdown",
   "metadata": {},
   "source": [
    "加权算术平均值被定义为\n",
    "$$\n",
    "\\sum^{n}_{i=1} w_i X_i\n",
    "$$\n",
    "\n",
    "其中 $\\sum^{n}_{i=0} w_i = 1$。"
   ]
  },
  {
   "cell_type": "markdown",
   "metadata": {},
   "source": [
    "# 中位数"
   ]
  },
  {
   "cell_type": "code",
   "execution_count": 4,
   "metadata": {},
   "outputs": [
    {
     "name": "stdout",
     "output_type": "stream",
     "text": [
      "Median of x1: 3.5\n",
      "Median of x2: 4.0\n"
     ]
    }
   ],
   "source": [
    "print('Median of x1:', np.median(x1))\n",
    "print('Median of x2:', np.median(x2))"
   ]
  },
  {
   "cell_type": "markdown",
   "metadata": {},
   "source": [
    "# 众数"
   ]
  },
  {
   "cell_type": "code",
   "execution_count": 5,
   "metadata": {},
   "outputs": [
    {
     "name": "stdout",
     "output_type": "stream",
     "text": [
      "One mode of x1: 2\n",
      "All of the modes of x1: [2, 5]\n"
     ]
    }
   ],
   "source": [
    "print('One mode of x1:', stats.mode(x1)[0][0])\n",
    "\n",
    "def mode(l):\n",
    "    counts = {}\n",
    "    for e in l:\n",
    "        if e in counts:\n",
    "            counts[e] += 1\n",
    "        else:\n",
    "            counts[e] = 1\n",
    "            \n",
    "    maxcount = 0\n",
    "    modes = {}\n",
    "    \n",
    "    for (key, value) in counts.items():\n",
    "        if value > maxcount:\n",
    "            maxcount = value\n",
    "            modes = {key}\n",
    "        elif value == maxcount:\n",
    "            modes.add(key)\n",
    "    \n",
    "    if maxcount > 1 or len(l) == 1:\n",
    "        return list(modes)\n",
    "    \n",
    "    return 'No mode'\n",
    "\n",
    "print('All of the modes of x1:', mode(x1))"
   ]
  },
  {
   "cell_type": "markdown",
   "metadata": {},
   "source": [
    "对于有很多不同值的数据，例如回报数据，可能不会有值超过一次出现的。这种情况下，我们可以像创建直方图时一样取值，找到数据集的众数，其中每个值用它的箱的名称替换。这样，我们可以发现哪些元素最常出现。"
   ]
  },
  {
   "cell_type": "code",
   "execution_count": 6,
   "metadata": {},
   "outputs": [
    {
     "name": "stdout",
     "output_type": "stream",
     "text": [
      "Mode of returns: No mode\n"
     ]
    }
   ],
   "source": [
    "start = '2014-01-01'\n",
    "end = '2015-01-01'\n",
    "pricing = get_df_from_tiingo('SPY', start, end).loc[:,'adjClose']\n",
    "returns = pricing.pct_change()[1:]\n",
    "print('Mode of returns:', mode(returns))"
   ]
  },
  {
   "cell_type": "code",
   "execution_count": 7,
   "metadata": {},
   "outputs": [
    {
     "name": "stdout",
     "output_type": "stream",
     "text": [
      "Mode of bins: [(-0.0012500271794381734, 0.0011116733213610841)]\n"
     ]
    }
   ],
   "source": [
    "hist, bins = np.histogram(returns, 20)\n",
    "maxfreq = max(hist)\n",
    "print('Mode of bins:', [(bins[i], bins[i+1]) for i, j in enumerate(hist) if j == maxfreq])"
   ]
  },
  {
   "cell_type": "markdown",
   "metadata": {},
   "source": [
    "# 几何平均数"
   ]
  },
  {
   "cell_type": "markdown",
   "metadata": {},
   "source": [
    "算术平均数使用加法，而几何平均数使用乘法：\n",
    "$$\n",
    "G = \\sqrt[n]{X_1X_2\\ldots X_n}\n",
    "$$\n",
    "对于 $X_i \\ge 0$ 我们可以使用对数来写做一个算术平均值：\n",
    "$$\n",
    "\\ln{G} = \\frac{\\sum^{n}_{i=1}\\ln X_i}{n}\n",
    "$$"
   ]
  },
  {
   "cell_type": "markdown",
   "metadata": {},
   "source": [
    "几何平均值总是小于等于算术平均值。"
   ]
  },
  {
   "cell_type": "code",
   "execution_count": 8,
   "metadata": {},
   "outputs": [
    {
     "name": "stdout",
     "output_type": "stream",
     "text": [
      "Geometric mean of x1: 3.09410402498\n",
      "Geometric mean of x2: 4.55253458762\n"
     ]
    }
   ],
   "source": [
    "print('Geometric mean of x1:', stats.gmean(x1))\n",
    "print('Geometric mean of x2:', stats.gmean(x2))"
   ]
  },
  {
   "cell_type": "markdown",
   "metadata": {},
   "source": [
    "当有负数时如何计算几何平均值呢？这个问题在资产回报的例子中很好解决，因为我们的值最小为 $-1$。我们可以将 $R_t$ 加上 $1$ 得到 $1 + R_t$，这样最后的公式为：\n",
    "$$\n",
    "R_G = \\sqrt[T]{(1+R_1)\\ldots (1+R_T)} - 1\n",
    "$$"
   ]
  },
  {
   "cell_type": "code",
   "execution_count": 9,
   "metadata": {},
   "outputs": [
    {
     "name": "stdout",
     "output_type": "stream",
     "text": [
      "Geometric mean of returns: 0.000541695567009\n"
     ]
    }
   ],
   "source": [
    "# 为数组中每个值加 1\n",
    "ratios = returns + np.ones(len(returns))\n",
    "R_G = stats.gmean(ratios) - 1\n",
    "print('Geometric mean of returns:', R_G)"
   ]
  },
  {
   "cell_type": "markdown",
   "metadata": {},
   "source": [
    "由于几何平均数的定义，如果整个时间段内的回报率恒定且等于 $R_G$，证券的最终价格会与回报率为 $R_1,\\ldots, R_T$ 的情况相同。"
   ]
  },
  {
   "cell_type": "code",
   "execution_count": 10,
   "metadata": {},
   "outputs": [
    {
     "name": "stdout",
     "output_type": "stream",
     "text": [
      "Initial price: 168.11174661\n",
      "Final price: 192.58886649\n",
      "Final price as computed with R_G: 192.58886649\n"
     ]
    }
   ],
   "source": [
    "T = len(returns)\n",
    "init_price = pricing[0]\n",
    "final_price = pricing[T]\n",
    "print('Initial price:', init_price)\n",
    "print('Final price:', final_price)\n",
    "print('Final price as computed with R_G:', init_price * (1 + R_G) ** T)"
   ]
  },
  {
   "cell_type": "markdown",
   "metadata": {},
   "source": [
    "# 调和平均数"
   ]
  },
  {
   "cell_type": "markdown",
   "metadata": {},
   "source": [
    "调和平均值比其他类型的平均值更少使用。它被定义为\n",
    "$$\n",
    "H = \\frac{n}{\\sum_{i=1}^n \\frac{1}{X_i}}\n",
    "$$\n"
   ]
  },
  {
   "cell_type": "markdown",
   "metadata": {},
   "source": [
    "与几何平均值一样，我们可以将调和均值重写为算术平均值。调和平均值的倒数是观察值的倒数的算术平均值：\n",
    "$$\n",
    "\\frac{1}{H} = \\frac{\\sum_{i=1}^n \\frac{1}{X_i}}{n}\n",
    "$$"
   ]
  },
  {
   "cell_type": "markdown",
   "metadata": {},
   "source": [
    "对于非负数 $X_i$ 的调和均值不大于算术均值，并且只有当所有观察值相等时它们才相等。"
   ]
  },
  {
   "cell_type": "code",
   "execution_count": 11,
   "metadata": {},
   "outputs": [
    {
     "name": "stdout",
     "output_type": "stream",
     "text": [
      "Harmonic mean of x1: 2.55902513328\n",
      "Harmonic mean of x2: 2.86972365624\n"
     ]
    }
   ],
   "source": [
    "print('Harmonic mean of x1:', stats.hmean(x1))\n",
    "print('Harmonic mean of x2:', stats.hmean(x2))"
   ]
  },
  {
   "cell_type": "markdown",
   "metadata": {},
   "source": [
    "当数据可以使用比率自然表达时，可以使用调和均值。例如，在平均成本的策略中，固定金额定期花在股票。股票价格越高，那么采用该策略的投资者购买的股票越少。他们为股票支付的平均（算术平均）金额时价格的调和平均值。"
   ]
  },
  {
   "cell_type": "markdown",
   "metadata": {},
   "source": [
    "# 点估计可能会骗人"
   ]
  },
  {
   "cell_type": "markdown",
   "metadata": {},
   "source": [
    "由于它将整个分布合并为一个数字，所以均值隐藏了大量信息。你应该小心确保你没有由于汇总数据丢失重要信息。"
   ]
  },
  {
   "cell_type": "markdown",
   "metadata": {},
   "source": [
    "## 潜在分布可能是错误的"
   ]
  },
  {
   "cell_type": "markdown",
   "metadata": {},
   "source": [
    "即使你使用了正确的指标来衡量均值与离散度，但如果潜在分布不符合你的想法，它们就没有意义。例如，使用标准差来衡量一个事件的频率通常会假设它是正态分布。尽量不要去假设分布，除非必须，这种情况下，你应该严格检查数据是否符合你假设的分布。"
   ]
  }
 ],
 "metadata": {
  "anaconda-cloud": {},
  "kernelspec": {
   "display_name": "Python [conda env:py35]",
   "language": "python",
   "name": "conda-env-py35-py"
  },
  "language_info": {
   "codemirror_mode": {
    "name": "ipython",
    "version": 3
   },
   "file_extension": ".py",
   "mimetype": "text/x-python",
   "name": "python",
   "nbconvert_exporter": "python",
   "pygments_lexer": "ipython3",
   "version": "3.5.5"
  }
 },
 "nbformat": 4,
 "nbformat_minor": 2
}

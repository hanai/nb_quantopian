{
 "cells": [
  {
   "cell_type": "markdown",
   "metadata": {},
   "source": [
    "# 衡量离散度"
   ]
  },
  {
   "cell_type": "markdown",
   "metadata": {},
   "source": [
    "离散衡量一组数据如何分布。这对于金融来说尤为重要，因为衡量风险的主要方式之一就是历史回报的离散程度。如果回报多在中心值附近，那么我们不必担心。如果回报四处分布，那么就有危险。"
   ]
  },
  {
   "cell_type": "markdown",
   "metadata": {},
   "source": [
    "低离散度的数据在均值附近大量聚集，高离散度的数据有许多非常大和非常小的值。"
   ]
  },
  {
   "cell_type": "code",
   "execution_count": 1,
   "metadata": {},
   "outputs": [],
   "source": [
    "import numpy as np\n",
    "np.random.seed(121)"
   ]
  },
  {
   "cell_type": "code",
   "execution_count": 2,
   "metadata": {},
   "outputs": [
    {
     "name": "stdout",
     "output_type": "stream",
     "text": [
      "X: [ 3  8 34 39 46 52 52 52 54 57 60 65 66 75 83 85 88 94 95 96]\n",
      "Mean of X: 60.2\n"
     ]
    }
   ],
   "source": [
    "# Generate 20 random integers < 10\n",
    "X = np.random.randint(100, size=20)\n",
    "\n",
    "X = np.sort(X)\n",
    "print('X: %s' %(X))\n",
    "\n",
    "mu = np.mean(X)\n",
    "print('Mean of X:', mu)"
   ]
  },
  {
   "cell_type": "markdown",
   "metadata": {},
   "source": [
    "# 值域"
   ]
  },
  {
   "cell_type": "markdown",
   "metadata": {},
   "source": [
    "值域是数据集中最小值与最大值之差，它对异常值非常敏感。"
   ]
  },
  {
   "cell_type": "code",
   "execution_count": 3,
   "metadata": {},
   "outputs": [
    {
     "name": "stdout",
     "output_type": "stream",
     "text": [
      "Range of X: 93\n"
     ]
    }
   ],
   "source": [
    "# ptp: peak to peak\n",
    "print('Range of X: %s' %(np.ptp(X)))"
   ]
  },
  {
   "cell_type": "markdown",
   "metadata": {},
   "source": [
    "# 平均绝对偏差（MAD）"
   ]
  },
  {
   "cell_type": "markdown",
   "metadata": {},
   "source": [
    "平均绝对偏差是观察值距算术均值距离的均值。"
   ]
  },
  {
   "cell_type": "markdown",
   "metadata": {},
   "source": [
    "$$MAD = \\frac{\\sum_{i=1}^n |X_i - \\mu|}{n}$$"
   ]
  },
  {
   "cell_type": "markdown",
   "metadata": {},
   "source": [
    "其中 $n$ 为观察值的个数，$mu$ 为观察值的均值。"
   ]
  },
  {
   "cell_type": "code",
   "execution_count": 4,
   "metadata": {},
   "outputs": [
    {
     "name": "stdout",
     "output_type": "stream",
     "text": [
      "Mean absolute deviation of X: 20.52\n"
     ]
    }
   ],
   "source": [
    "abs_dispersion = [np.abs(mu - x) for x in X]\n",
    "MAD = np.sum(abs_dispersion)/len(abs_dispersion)\n",
    "print('Mean absolute deviation of X:', MAD)"
   ]
  },
  {
   "cell_type": "markdown",
   "metadata": {},
   "source": [
    "# 方差和标准差"
   ]
  },
  {
   "cell_type": "markdown",
   "metadata": {},
   "source": [
    "方差 $\\sigma$ 定义为均值附近平方偏差的平均值：$$\\sigma^2 = \\frac{\\sum_{i=1}^n (X_i - \\mu)^2}{n}$$"
   ]
  },
  {
   "cell_type": "markdown",
   "metadata": {},
   "source": [
    "这有时比平均绝对偏差更方便，因为绝对值不可微分，而平方平滑，并且一些优化算法依赖可微性。"
   ]
  },
  {
   "cell_type": "markdown",
   "metadata": {},
   "source": [
    "标准差为方差的平方根 $\\sigma$。"
   ]
  },
  {
   "cell_type": "code",
   "execution_count": 5,
   "metadata": {
    "scrolled": true
   },
   "outputs": [
    {
     "name": "stdout",
     "output_type": "stream",
     "text": [
      "Variance of X: 670.16\n",
      "Standard deviation of X: 25.8874486962\n"
     ]
    }
   ],
   "source": [
    "print('Variance of X:', np.var(X))\n",
    "print('Standard deviation of X:', np.std(X))"
   ]
  },
  {
   "cell_type": "markdown",
   "metadata": {},
   "source": [
    "应用标准差的一种方法是参考切比雪夫的不等式。对于所有 $k > 1$，标准差 $k$ 内的样本比例至少为 $1 - \\frac{1}{k^2}$。"
   ]
  },
  {
   "cell_type": "code",
   "execution_count": 6,
   "metadata": {},
   "outputs": [
    {
     "name": "stdout",
     "output_type": "stream",
     "text": [
      "Observations within 1.25 stds of mean: [34, 39, 46, 52, 52, 52, 54, 57, 60, 65, 66, 75, 83, 85, 88]\n",
      "Confirming that 0.75 > 0.36\n"
     ]
    }
   ],
   "source": [
    "k = 1.25\n",
    "dist = k*np.std(X)\n",
    "l = [x for x in X if abs(x - mu) <= dist]\n",
    "print('Observations within', k, 'stds of mean:', l)\n",
    "print('Confirming that', float(len(l)) / len(X), '>', 1 - 1/k**2)"
   ]
  },
  {
   "cell_type": "markdown",
   "metadata": {},
   "source": [
    "这种情况下，切比雪夫不等式给出的界限相当宽松。这个界限很少严格，但是由于它适用于所有的数据集和分布，所有它很有用。"
   ]
  },
  {
   "cell_type": "markdown",
   "metadata": {},
   "source": [
    "# 半方差与半偏差"
   ]
  },
  {
   "cell_type": "markdown",
   "metadata": {},
   "source": [
    "尽管方差与标准差告诉我们数据如火波动，它们不区分向上或向下。通常，比如资产回报的情况下，我们更担心下降的偏差，这通过半方差与半偏差来解决，它只计算低于平均值的观测值。半方差被定义为 $$\\frac{\\sum_{X_i < \\mu} (X_i - \\mu)^2}{n_<}$$ $n_<$ 是小于均值的观测值。半偏差是半方差的平方根。"
   ]
  },
  {
   "cell_type": "code",
   "execution_count": 7,
   "metadata": {},
   "outputs": [
    {
     "name": "stdout",
     "output_type": "stream",
     "text": [
      "Semivariance of X: 689.512727273\n",
      "Semideviation of X: 26.2585743572\n"
     ]
    }
   ],
   "source": [
    "lows = [e for e in X if e <= mu]\n",
    "\n",
    "semivar = np.sum((lows - mu) ** 2) /len(lows)\n",
    "\n",
    "print('Semivariance of X:', semivar)\n",
    "print('Semideviation of X:', np.sqrt(semivar))"
   ]
  },
  {
   "cell_type": "markdown",
   "metadata": {},
   "source": [
    "一个相关的概念是目标半方差，落入目标值以下的的值到目标值的平均距离：$$\\frac{\\sum_{X_i < B} (X_i - B)^2}{n_{<B}}$$"
   ]
  },
  {
   "cell_type": "code",
   "execution_count": 8,
   "metadata": {},
   "outputs": [
    {
     "name": "stdout",
     "output_type": "stream",
     "text": [
      "Target semivariance of X: 188.5\n",
      "Target semideviation of X: 13.7295302177\n"
     ]
    }
   ],
   "source": [
    "B = 19\n",
    "lows_B = [e for e in X if e <= B]\n",
    "semivar_B = sum(map(lambda x: (x -B) ** 2, lows_B)) / len(lows_B)\n",
    "\n",
    "print('Target semivariance of X:', semivar_B)\n",
    "print('Target semideviation of X:', np.sqrt(semivar_B))"
   ]
  }
 ],
 "metadata": {
  "anaconda-cloud": {},
  "kernelspec": {
   "display_name": "Python [conda env:py35]",
   "language": "python",
   "name": "conda-env-py35-py"
  },
  "language_info": {
   "codemirror_mode": {
    "name": "ipython",
    "version": 3
   },
   "file_extension": ".py",
   "mimetype": "text/x-python",
   "name": "python",
   "nbconvert_exporter": "python",
   "pygments_lexer": "ipython3",
   "version": "3.5.5"
  }
 },
 "nbformat": 4,
 "nbformat_minor": 2
}
